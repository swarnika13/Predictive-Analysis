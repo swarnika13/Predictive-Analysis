{
  "cells": [
    {
      "cell_type": "code",
      "execution_count": null,
      "metadata": {
        "id": "AVavy966mSgH"
      },
      "outputs": [],
      "source": [
        "import numpy as np\n",
        "import pandas as pd\n",
        "import tensorflow as tf\n",
        "from tensorflow.keras.models import Sequential\n",
        "from tensorflow.keras.layers import LSTM, Dense, Dropout\n",
        "from sklearn.preprocessing import MinMaxScaler"
      ]
    },
    {
      "cell_type": "code",
      "execution_count": null,
      "metadata": {
        "colab": {
          "base_uri": "https://localhost:8080/"
        },
        "id": "JcuEhlANnT-5",
        "outputId": "6c4ce6d0-48c4-4a0b-d40c-6a322d691c90"
      },
      "outputs": [
        {
          "name": "stdout",
          "output_type": "stream",
          "text": [
            "Drive already mounted at /content/drive; to attempt to forcibly remount, call drive.mount(\"/content/drive\", force_remount=True).\n"
          ]
        }
      ],
      "source": [
        "from google.colab import drive\n",
        "drive.mount('/content/drive')"
      ]
    },
    {
      "cell_type": "code",
      "execution_count": null,
      "metadata": {
        "colab": {
          "base_uri": "https://localhost:8080/"
        },
        "id": "9gSVldtSnlZV",
        "outputId": "e5387106-3650-43ca-9a02-b21c28f4d224"
      },
      "outputs": [
        {
          "output_type": "stream",
          "name": "stdout",
          "text": [
            "<bound method NDFrame.head of     Company     Year  Market Share  Units Sold  Revenue  YoY Growth  Sales  \\\n",
            "0      Boat  2023 Q1           6.2       53000     11.5    0.000000   10.0   \n",
            "1      Boat  2023 Q2           7.4       47567     12.4  -10.250943   11.3   \n",
            "2      Boat  2023 Q3           9.8       61987     10.9   30.315134   12.1   \n",
            "3      Boat  2023 Q4           3.9       56450     13.1   -8.932518    9.3   \n",
            "4      Boat  2024 Q1           5.4       65032     11.7   15.202834   11.0   \n",
            "5    Huawei  2023 Q1           6.1       10923      3.4    0.000000    3.0   \n",
            "6    Huawei  2023 Q2           7.4        9873      4.5   -9.612744    3.4   \n",
            "7    Huawei  2023 Q3           6.1       14322      5.0   45.062291    4.5   \n",
            "8    Huawei  2023 Q4           7.4       18988      4.3   32.579249    2.3   \n",
            "9    Huawei  2024 Q1           9.6       11232      4.9  -40.846851    1.2   \n",
            "10  Samsung  2023 Q1           9.0       23442      6.7    0.000000    5.0   \n",
            "11  Samsung  2023 Q2           7.4       20987      8.1  -10.472656    3.5   \n",
            "12  Samsung  2023 Q3           7.4       21322      9.6    1.596226    3.5   \n",
            "13  Samsung  2023 Q4           8.4       22344      5.3    4.793171    5.1   \n",
            "14  Samsung  2024 Q1           9.3       25430      7.2   13.811314    5.6   \n",
            "15    Apple  2023 Q1          24.5       18923      8.9    0.000000    7.0   \n",
            "16    Apple  2023 Q2          21.1       17655     10.2   -6.700840    6.0   \n",
            "17    Apple  2023 Q3          20.5       19823      9.6   12.279807    6.8   \n",
            "18    Apple  2023 Q4          25.3       12732     11.3  -35.771578    7.2   \n",
            "19    Apple  2024 Q1          18.2       20156     12.8   58.309771    6.7   \n",
            "20   Xiaomi  2023 Q1           7.9       30731     15.8    0.000000    7.0   \n",
            "21   Xiaomi  2023 Q2           7.7       29875     19.2   -2.785461    6.9   \n",
            "22   Xiaomi  2023 Q3           7.9       33915     20.6   13.523013    7.1   \n",
            "23   Xiaomi  2023 Q4           8.4       31961     17.2   -5.761462    7.3   \n",
            "24   Xiaomi  2024 Q1          10.5       34521     15.3    8.009762    7.5   \n",
            "25   Others  2023 Q1          46.4       41823     28.6    0.000000   12.0   \n",
            "26   Others  2023 Q2          49.1       37498     29.2  -10.341200   12.3   \n",
            "27   Others  2023 Q3          48.3       36455     21.4   -2.781482   11.6   \n",
            "28   Others  2023 Q4          46.7       32118     36.5  -11.896859   10.4   \n",
            "29   Others  2024 Q1          46.9       32676     32.3    1.737344   11.0   \n",
            "\n",
            "    CVP  \n",
            "0     7  \n",
            "1     8  \n",
            "2     7  \n",
            "3     9  \n",
            "4     9  \n",
            "5     3  \n",
            "6     4  \n",
            "7     3  \n",
            "8     2  \n",
            "9     3  \n",
            "10    6  \n",
            "11    7  \n",
            "12    6  \n",
            "13    5  \n",
            "14    5  \n",
            "15    9  \n",
            "16    8  \n",
            "17    9  \n",
            "18    9  \n",
            "19    7  \n",
            "20    6  \n",
            "21    7  \n",
            "22    5  \n",
            "23    7  \n",
            "24    4  \n",
            "25    6  \n",
            "26    6  \n",
            "27    7  \n",
            "28    7  \n",
            "29    8  >\n"
          ]
        }
      ],
      "source": [
        "import pandas as pd\n",
        "data = pd.read_csv('/content/drive/MyDrive/dataset/FINALDATASET 6.csv')\n",
        "\n",
        "print(data.head)"
      ]
    },
    {
      "cell_type": "code",
      "execution_count": null,
      "metadata": {
        "id": "DM3oNfaXoYHP"
      },
      "outputs": [],
      "source": [
        "import pandas as pd\n",
        "data = pd.get_dummies(data, columns=['Company'])"
      ]
    },
    {
      "cell_type": "code",
      "execution_count": null,
      "metadata": {
        "colab": {
          "base_uri": "https://localhost:8080/"
        },
        "id": "-jVJFTjTo_35",
        "outputId": "5818d89b-2dbb-4254-e058-51823c3c9b12"
      },
      "outputs": [
        {
          "output_type": "stream",
          "name": "stdout",
          "text": [
            "Index(['Company', 'Year', 'Market Share', 'Units Sold', 'Revenue',\n",
            "       'YoY Growth', 'Sales', 'CVP'],\n",
            "      dtype='object')\n"
          ]
        }
      ],
      "source": [
        "from sklearn.preprocessing import MinMaxScaler\n",
        "scaler = MinMaxScaler()\n",
        "\n",
        "# Verify correct column names and check for numeric values\n",
        "print(data.columns)  # Print column names to verify\n",
        "\n"
      ]
    },
    {
      "cell_type": "code",
      "execution_count": null,
      "metadata": {
        "colab": {
          "base_uri": "https://localhost:8080/"
        },
        "id": "xsArrkhGpJld",
        "outputId": "4fb75269-4782-47a7-9991-b5280b3a0294"
      },
      "outputs": [
        {
          "output_type": "stream",
          "name": "stdout",
          "text": [
            "Market Share    float64\n",
            "Units Sold        int64\n",
            "Revenue         float64\n",
            "YoY Growth      float64\n",
            "Sales           float64\n",
            "CVP               int64\n",
            "dtype: object\n"
          ]
        }
      ],
      "source": [
        "# Check for non-numeric columns\n",
        "print(data[['Market Share', 'Units Sold', 'Revenue', 'YoY Growth', 'Sales', 'CVP']].dtypes)\n",
        "\n"
      ]
    },
    {
      "cell_type": "code",
      "execution_count": null,
      "metadata": {
        "colab": {
          "base_uri": "https://localhost:8080/"
        },
        "id": "ZKwYiJIlprCa",
        "outputId": "43f4edcb-cecd-4f9a-9b76-acb73fd041d1"
      },
      "outputs": [
        {
          "output_type": "stream",
          "name": "stdout",
          "text": [
            "      Year  Market Share  Units Sold   Revenue  YoY Growth     Sales  \\\n",
            "0  2023 Q1      0.050885    0.781867  0.244713    0.411943  0.792793   \n",
            "1  2023 Q2      0.077434    0.683370  0.271903    0.308561  0.909910   \n",
            "2  2023 Q3      0.130531    0.944796  0.226586    0.717673  0.981982   \n",
            "3  2023 Q4      0.000000    0.844413  0.293051    0.321858  0.729730   \n",
            "4  2024 Q1      0.033186    1.000000  0.250755    0.565264  0.882883   \n",
            "\n",
            "        CVP  Company_Apple  Company_Boat  Company_Huawei  Company_Others  \\\n",
            "0  0.714286          False          True           False           False   \n",
            "1  0.857143          False          True           False           False   \n",
            "2  0.714286          False          True           False           False   \n",
            "3  1.000000          False          True           False           False   \n",
            "4  1.000000          False          True           False           False   \n",
            "\n",
            "   Company_Samsung  Company_Xiaomi  \n",
            "0            False           False  \n",
            "1            False           False  \n",
            "2            False           False  \n",
            "3            False           False  \n",
            "4            False           False  \n"
          ]
        }
      ],
      "source": [
        "# Scale the numeric columns\n",
        "scaled_data = scaler.fit_transform(data[['Market Share', 'Units Sold', 'Revenue', 'YoY Growth', 'Sales', 'CVP']])\n",
        "\n",
        "# Replace original columns with scaled data\n",
        "data[['Market Share', 'Units Sold', 'Revenue', 'YoY Growth', 'Sales', 'CVP']] = scaled_data\n",
        "\n",
        "# View the scaled data\n",
        "print(data.head())"
      ]
    },
    {
      "cell_type": "code",
      "execution_count": null,
      "metadata": {
        "colab": {
          "base_uri": "https://localhost:8080/"
        },
        "id": "HIy6LLGIp3yM",
        "outputId": "9b4a0ad5-71ef-4972-f934-ae6fcfb6248f"
      },
      "outputs": [
        {
          "output_type": "stream",
          "name": "stdout",
          "text": [
            "         Market Share  Units Sold   Revenue  YoY Growth     Sales       CVP  \\\n",
            "Year                                                                          \n",
            "2023 Q1      0.050885    0.781867  0.244713    0.411943  0.792793  0.714286   \n",
            "2023 Q2      0.077434    0.683370  0.271903    0.308561  0.909910  0.857143   \n",
            "2023 Q3      0.130531    0.944796  0.226586    0.717673  0.981982  0.714286   \n",
            "2023 Q4      0.000000    0.844413  0.293051    0.321858  0.729730  1.000000   \n",
            "2024 Q1      0.033186    1.000000  0.250755    0.565264  0.882883  1.000000   \n",
            "\n",
            "         Company_Apple  Company_Boat  Company_Huawei  Company_Others  \\\n",
            "Year                                                                   \n",
            "2023 Q1          False          True           False           False   \n",
            "2023 Q2          False          True           False           False   \n",
            "2023 Q3          False          True           False           False   \n",
            "2023 Q4          False          True           False           False   \n",
            "2024 Q1          False          True           False           False   \n",
            "\n",
            "         Company_Samsung  Company_Xiaomi  \n",
            "Year                                      \n",
            "2023 Q1            False           False  \n",
            "2023 Q2            False           False  \n",
            "2023 Q3            False           False  \n",
            "2023 Q4            False           False  \n",
            "2024 Q1            False           False  \n"
          ]
        }
      ],
      "source": [
        "data.set_index('Year', inplace=True)  # Set 'Date' as the index\n",
        "\n",
        "print(data.head())  # Check the scaled data"
      ]
    },
    {
      "cell_type": "code",
      "execution_count": null,
      "metadata": {
        "colab": {
          "base_uri": "https://localhost:8080/"
        },
        "id": "an71oNFSp8gm",
        "outputId": "4dd1da64-14ce-4b84-8233-d3146014f252"
      },
      "outputs": [
        {
          "output_type": "stream",
          "name": "stdout",
          "text": [
            "(27, 3, 6) (27,)\n"
          ]
        }
      ],
      "source": [
        "import numpy as np\n",
        "\n",
        "def create_dataset(data, time_step=1):\n",
        "    X, y = [], []\n",
        "    for i in range(len(data) - time_step):\n",
        "        X.append(data[i:(i + time_step), :])  # Use past time_step data as features\n",
        "        y.append(data[i + time_step, 0])      # Predict next value (e.g., market_share)\n",
        "    return np.array(X), np.array(y)\n",
        "\n",
        "# Assume you're focusing on market_share prediction\n",
        "features = data[['Market Share', 'Units Sold', 'Revenue', 'YoY Growth', 'Sales', 'CVP']].values\n",
        "time_step = 3  # Use the past 3 years to predict the next\n",
        "X, y = create_dataset(features, time_step)\n",
        "\n",
        "# Reshape X to be [samples, time steps, features] for LSTM\n",
        "X = X.reshape(X.shape[0], X.shape[1], X.shape[2])\n",
        "\n",
        "print(X.shape, y.shape)  # Check the shapes of input and output arrays\n"
      ]
    },
    {
      "cell_type": "code",
      "execution_count": null,
      "metadata": {
        "colab": {
          "base_uri": "https://localhost:8080/"
        },
        "id": "Ml0T6OLMqMC3",
        "outputId": "4d89f8e3-1638-4f53-9038-652df4489211"
      },
      "outputs": [
        {
          "output_type": "stream",
          "name": "stdout",
          "text": [
            "(21, 3, 6) (6, 3, 6)\n"
          ]
        }
      ],
      "source": [
        "train_size = int(len(X) * 0.8)  # 80% for training, 20% for testing\n",
        "X_train, X_test = X[:train_size], X[train_size:]\n",
        "y_train, y_test = y[:train_size], y[train_size:]\n",
        "\n",
        "print(X_train.shape, X_test.shape)  # Check training and testing shapes\n"
      ]
    },
    {
      "cell_type": "code",
      "execution_count": null,
      "metadata": {
        "colab": {
          "base_uri": "https://localhost:8080/"
        },
        "id": "rXdAX0o1qCaj",
        "outputId": "102946a5-841f-4fe8-afcb-c04bdc5ed290"
      },
      "outputs": [
        {
          "output_type": "stream",
          "name": "stdout",
          "text": [
            "Epoch 1/50\n",
            "1/1 [==============================] - 8s 8s/step - loss: 0.0354 - val_loss: 0.7243\n",
            "Epoch 2/50\n",
            "1/1 [==============================] - 0s 51ms/step - loss: 0.0280 - val_loss: 0.6608\n",
            "Epoch 3/50\n",
            "1/1 [==============================] - 0s 45ms/step - loss: 0.0237 - val_loss: 0.6060\n",
            "Epoch 4/50\n",
            "1/1 [==============================] - 0s 46ms/step - loss: 0.0207 - val_loss: 0.5620\n",
            "Epoch 5/50\n",
            "1/1 [==============================] - 0s 44ms/step - loss: 0.0200 - val_loss: 0.5321\n",
            "Epoch 6/50\n",
            "1/1 [==============================] - 0s 49ms/step - loss: 0.0228 - val_loss: 0.5192\n",
            "Epoch 7/50\n",
            "1/1 [==============================] - 0s 47ms/step - loss: 0.0215 - val_loss: 0.5178\n",
            "Epoch 8/50\n",
            "1/1 [==============================] - 0s 72ms/step - loss: 0.0227 - val_loss: 0.5257\n",
            "Epoch 9/50\n",
            "1/1 [==============================] - 0s 49ms/step - loss: 0.0216 - val_loss: 0.5398\n",
            "Epoch 10/50\n",
            "1/1 [==============================] - 0s 45ms/step - loss: 0.0203 - val_loss: 0.5577\n",
            "Epoch 11/50\n",
            "1/1 [==============================] - 0s 43ms/step - loss: 0.0199 - val_loss: 0.5775\n",
            "Epoch 12/50\n",
            "1/1 [==============================] - 0s 45ms/step - loss: 0.0179 - val_loss: 0.5972\n",
            "Epoch 13/50\n",
            "1/1 [==============================] - 0s 45ms/step - loss: 0.0179 - val_loss: 0.6146\n",
            "Epoch 14/50\n",
            "1/1 [==============================] - 0s 54ms/step - loss: 0.0178 - val_loss: 0.6292\n",
            "Epoch 15/50\n",
            "1/1 [==============================] - 0s 45ms/step - loss: 0.0175 - val_loss: 0.6399\n",
            "Epoch 16/50\n",
            "1/1 [==============================] - 0s 44ms/step - loss: 0.0170 - val_loss: 0.6464\n",
            "Epoch 17/50\n",
            "1/1 [==============================] - 0s 44ms/step - loss: 0.0185 - val_loss: 0.6493\n",
            "Epoch 18/50\n",
            "1/1 [==============================] - 0s 44ms/step - loss: 0.0171 - val_loss: 0.6481\n",
            "Epoch 19/50\n",
            "1/1 [==============================] - 0s 44ms/step - loss: 0.0166 - val_loss: 0.6437\n",
            "Epoch 20/50\n",
            "1/1 [==============================] - 0s 44ms/step - loss: 0.0167 - val_loss: 0.6368\n",
            "Epoch 21/50\n",
            "1/1 [==============================] - 0s 42ms/step - loss: 0.0162 - val_loss: 0.6281\n",
            "Epoch 22/50\n",
            "1/1 [==============================] - 0s 42ms/step - loss: 0.0152 - val_loss: 0.6188\n",
            "Epoch 23/50\n",
            "1/1 [==============================] - 0s 44ms/step - loss: 0.0160 - val_loss: 0.6109\n",
            "Epoch 24/50\n",
            "1/1 [==============================] - 0s 44ms/step - loss: 0.0159 - val_loss: 0.6057\n",
            "Epoch 25/50\n",
            "1/1 [==============================] - 0s 49ms/step - loss: 0.0145 - val_loss: 0.6036\n",
            "Epoch 26/50\n",
            "1/1 [==============================] - 0s 45ms/step - loss: 0.0149 - val_loss: 0.6064\n",
            "Epoch 27/50\n",
            "1/1 [==============================] - 0s 58ms/step - loss: 0.0155 - val_loss: 0.6133\n",
            "Epoch 28/50\n",
            "1/1 [==============================] - 0s 71ms/step - loss: 0.0135 - val_loss: 0.6237\n",
            "Epoch 29/50\n",
            "1/1 [==============================] - 0s 63ms/step - loss: 0.0148 - val_loss: 0.6366\n",
            "Epoch 30/50\n",
            "1/1 [==============================] - 0s 59ms/step - loss: 0.0139 - val_loss: 0.6513\n",
            "Epoch 31/50\n",
            "1/1 [==============================] - 0s 57ms/step - loss: 0.0134 - val_loss: 0.6663\n",
            "Epoch 32/50\n",
            "1/1 [==============================] - 0s 53ms/step - loss: 0.0135 - val_loss: 0.6795\n",
            "Epoch 33/50\n",
            "1/1 [==============================] - 0s 51ms/step - loss: 0.0126 - val_loss: 0.6902\n",
            "Epoch 34/50\n",
            "1/1 [==============================] - 0s 45ms/step - loss: 0.0135 - val_loss: 0.6971\n",
            "Epoch 35/50\n",
            "1/1 [==============================] - 0s 43ms/step - loss: 0.0133 - val_loss: 0.6999\n",
            "Epoch 36/50\n",
            "1/1 [==============================] - 0s 46ms/step - loss: 0.0117 - val_loss: 0.6981\n",
            "Epoch 37/50\n",
            "1/1 [==============================] - 0s 42ms/step - loss: 0.0127 - val_loss: 0.6930\n",
            "Epoch 38/50\n",
            "1/1 [==============================] - 0s 43ms/step - loss: 0.0118 - val_loss: 0.6860\n",
            "Epoch 39/50\n",
            "1/1 [==============================] - 0s 41ms/step - loss: 0.0127 - val_loss: 0.6782\n",
            "Epoch 40/50\n",
            "1/1 [==============================] - 0s 44ms/step - loss: 0.0138 - val_loss: 0.6732\n",
            "Epoch 41/50\n",
            "1/1 [==============================] - 0s 46ms/step - loss: 0.0130 - val_loss: 0.6726\n",
            "Epoch 42/50\n",
            "1/1 [==============================] - 0s 47ms/step - loss: 0.0116 - val_loss: 0.6758\n",
            "Epoch 43/50\n",
            "1/1 [==============================] - 0s 48ms/step - loss: 0.0121 - val_loss: 0.6833\n",
            "Epoch 44/50\n",
            "1/1 [==============================] - 0s 44ms/step - loss: 0.0135 - val_loss: 0.6930\n",
            "Epoch 45/50\n",
            "1/1 [==============================] - 0s 55ms/step - loss: 0.0132 - val_loss: 0.7037\n",
            "Epoch 46/50\n",
            "1/1 [==============================] - 0s 77ms/step - loss: 0.0132 - val_loss: 0.7148\n",
            "Epoch 47/50\n",
            "1/1 [==============================] - 0s 86ms/step - loss: 0.0136 - val_loss: 0.7224\n",
            "Epoch 48/50\n",
            "1/1 [==============================] - 0s 51ms/step - loss: 0.0128 - val_loss: 0.7233\n",
            "Epoch 49/50\n",
            "1/1 [==============================] - 0s 41ms/step - loss: 0.0122 - val_loss: 0.7232\n",
            "Epoch 50/50\n",
            "1/1 [==============================] - 0s 43ms/step - loss: 0.0131 - val_loss: 0.7177\n"
          ]
        }
      ],
      "source": [
        "from tensorflow.keras.models import Sequential\n",
        "from tensorflow.keras.layers import LSTM, Dense, Dropout\n",
        "\n",
        "# Build the LSTM model\n",
        "model = Sequential()\n",
        "model.add(LSTM(50, return_sequences=True, input_shape=(time_step, X.shape[2])))  # First LSTM layer\n",
        "model.add(Dropout(0.2))  # Dropout to prevent overfitting\n",
        "model.add(LSTM(50, return_sequences=False))  # Second LSTM layer\n",
        "model.add(Dense(25))  # Dense layer with 25 units\n",
        "model.add(Dense(1))   # Output layer with 1 unit (predicting next market_share)\n",
        "\n",
        "# Compile the model\n",
        "model.compile(optimizer='adam', loss='mean_squared_error')\n",
        "\n",
        "# Train the model\n",
        "history = model.fit(X_train, y_train, batch_size=32, epochs=50, validation_data=(X_test, y_test))\n"
      ]
    },
    {
      "cell_type": "code",
      "execution_count": null,
      "metadata": {
        "colab": {
          "base_uri": "https://localhost:8080/",
          "height": 544
        },
        "id": "S_d1e9ZnqURw",
        "outputId": "f32c5391-fc31-4aa0-8513-2beb18981622"
      },
      "outputs": [
        {
          "output_type": "stream",
          "name": "stderr",
          "text": [
            "WARNING:tensorflow:6 out of the last 9 calls to <function Model.make_predict_function.<locals>.predict_function at 0x7d90ab252a70> triggered tf.function retracing. Tracing is expensive and the excessive number of tracings could be due to (1) creating @tf.function repeatedly in a loop, (2) passing tensors with different shapes, (3) passing Python objects instead of tensors. For (1), please define your @tf.function outside of the loop. For (2), @tf.function has reduce_retracing=True option that can avoid unnecessary retracing. For (3), please refer to https://www.tensorflow.org/guide/function#controlling_retracing and https://www.tensorflow.org/api_docs/python/tf/function for  more details.\n"
          ]
        },
        {
          "output_type": "stream",
          "name": "stdout",
          "text": [
            "1/1 [==============================] - 1s 1s/step\n"
          ]
        },
        {
          "output_type": "display_data",
          "data": {
            "text/plain": [
              "<Figure size 1000x500 with 1 Axes>"
            ],
            "image/png": "[encoded data removed]"
          },
          "metadata": {}
        }
      ],
      "source": [
        "import matplotlib.pyplot as plt\n",
        "import numpy as np\n",
        "\n",
        "# Make predictions on the test set\n",
        "predictions = model.predict(X_test)\n",
        "\n",
        "# Create an empty array with the correct shape for inverse transformation\n",
        "predictions_reshaped = np.zeros((predictions.shape[0], X.shape[2]))\n",
        "\n",
        "# Put the predictions back in the first column\n",
        "predictions_reshaped[:, 0] = predictions.flatten()\n",
        "\n",
        "# Inverse transform using the original scaler\n",
        "predictions = scaler.inverse_transform(predictions_reshaped)\n",
        "\n",
        "# Reshape y_test to have the same number of columns as the original data\n",
        "y_test_reshaped = np.zeros((y_test.shape[0], X.shape[2]))\n",
        "y_test_reshaped[:, 0] = y_test.flatten()\n",
        "\n",
        "# Inverse scaling for true values\n",
        "y_test_rescaled = scaler.inverse_transform(y_test_reshaped)\n",
        "\n",
        "# Plotting the results\n",
        "plt.figure(figsize=(10,5))\n",
        "plt.plot(y_test_rescaled[:, 0], label='True Market Share', color='blue')\n",
        "plt.plot(predictions[:, 0], label='Predicted Market Share', color='red')\n",
        "plt.title('Market Share Prediction using LSTM')\n",
        "plt.xlabel('Years')\n",
        "plt.ylabel('Market Share (%)')\n",
        "plt.legend()\n",
        "plt.grid(True)\n",
        "plt.show()"
      ]
    },
    {
      "cell_type": "code",
      "execution_count": null,
      "metadata": {
        "colab": {
          "base_uri": "https://localhost:8080/"
        },
        "id": "P5eOKjx5qv8f",
        "outputId": "79f1c988-350c-42f4-ddc9-80bf6f764930"
      },
      "outputs": [
        {
          "output_type": "stream",
          "name": "stdout",
          "text": [
            "Root Mean Squared Error: 0.48159975152865464\n"
          ]
        }
      ],
      "source": [
        "from sklearn.metrics import mean_squared_error\n",
        "import numpy as np\n",
        "\n",
        "# Calculate RMSE\n",
        "rmse = np.sqrt(mean_squared_error(y_test, predictions[:, 4]))\n",
        "print(f'Root Mean Squared Error: {rmse}')"
      ]
    },
    {
      "cell_type": "code",
      "execution_count": null,
      "metadata": {
        "id": "IynUSm4lrDY2"
      },
      "outputs": [],
      "source": []
    }
  ],
  "metadata": {
    "colab": {
      "provenance": []
    },
    "kernelspec": {
      "display_name": "Python 3",
      "name": "python3"
    },
    "language_info": {
      "name": "python"
    }
  },
  "nbformat": 4,
  "nbformat_minor": 0
}